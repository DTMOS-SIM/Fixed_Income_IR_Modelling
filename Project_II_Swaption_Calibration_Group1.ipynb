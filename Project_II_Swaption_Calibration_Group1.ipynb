{
 "cells": [
  {
   "cell_type": "code",
   "execution_count": 1,
   "id": "initial_id",
   "metadata": {
    "collapsed": true,
    "ExecuteTime": {
     "end_time": "2024-04-02T14:20:14.501853Z",
     "start_time": "2024-04-02T14:20:13.748433Z"
    }
   },
   "outputs": [],
   "source": [
    "import pandas as pd\n",
    "import numpy as np\n",
    "import matplotlib.pyplot as plt\n",
    "\n",
    "from scipy.optimize import fsolve, least_squares\n",
    "from scipy.interpolate import interp2d\n",
    "from scipy.integrate import quad\n",
    "from scipy.stats import norm\n",
    "\n",
    "import warnings\n",
    "warnings.filterwarnings('ignore')"
   ]
  },
  {
   "cell_type": "code",
   "outputs": [],
   "source": [
    "ois_disc_factor = pd.read_excel('Data_1_Output.xlsx', sheet_name='oisDiscFactors')['DiscountFactor']\n",
    "fwd_swap_rates = pd.read_excel('Data_1_Output.xlsx', sheet_name='fwdSwapRates')"
   ],
   "metadata": {
    "collapsed": false,
    "ExecuteTime": {
     "end_time": "2024-04-02T14:20:14.573782Z",
     "start_time": "2024-04-02T14:20:14.503055Z"
    }
   },
   "id": "92d8b29b855d27af",
   "execution_count": 2
  },
  {
   "cell_type": "code",
   "outputs": [
    {
     "data": {
      "text/plain": "   Expiry Tenor  -200bps  -150bps  -100bps   -50bps   -25bps     ATM  +25bps  \\\n0      1Y    1Y  0.91570  0.62030  0.44130  0.31224  0.26182  0.2250  0.2096   \n1      1Y    2Y  0.83270  0.61240  0.46570  0.35807  0.31712  0.2872  0.2712   \n2      1Y    3Y  0.73920  0.56870  0.44770  0.35745  0.32317  0.2978  0.2829   \n3      1Y    5Y  0.55190  0.44640  0.36510  0.30242  0.27851  0.2607  0.2498   \n4      1Y   10Y  0.41180  0.35040  0.30207  0.26619  0.25351  0.2447  0.2398   \n5      5Y    1Y  0.67800  0.49090  0.38400  0.31485  0.29060  0.2726  0.2604   \n6      5Y    2Y  0.57880  0.46410  0.39033  0.33653  0.31531  0.2983  0.2856   \n7      5Y    3Y  0.53430  0.44440  0.38180  0.33437  0.31536  0.2998  0.2876   \n8      5Y    5Y  0.41990  0.36524  0.32326  0.29005  0.27677  0.2660  0.2573   \n9      5Y   10Y  0.34417  0.30948  0.28148  0.25954  0.25136  0.2451  0.2399   \n10    10Y    1Y  0.55160  0.44320  0.37368  0.32259  0.30210  0.2854  0.2731   \n11    10Y    2Y  0.51170  0.42900  0.37078  0.32622  0.30800  0.2928  0.2809   \n12    10Y    3Y  0.48220  0.41430  0.36400  0.32439  0.30796  0.2940  0.2827   \n13    10Y    5Y  0.40550  0.35891  0.32181  0.29144  0.27857  0.2674  0.2580   \n14    10Y   10Y  0.33601  0.30509  0.27978  0.25926  0.25086  0.2437  0.2376   \n\n    +50bps  +100bps  +150bps  +200bps  \n0   0.2140   0.2434  0.27488  0.30297  \n1   0.2684   0.2851  0.31025  0.33523  \n2   0.2780   0.2877  0.30725  0.32833  \n3   0.2456   0.2512  0.26536  0.28165  \n4   0.2382   0.2425  0.25204  0.26355  \n5   0.2532   0.2494  0.25320  0.25980  \n6   0.2765   0.2671  0.26540  0.26760  \n7   0.2782   0.2667  0.26200  0.26150  \n8   0.2502   0.2406  0.23570  0.23400  \n9   0.2356   0.2291  0.22490  0.22250  \n10  0.2645   0.2561  0.25520  0.25780  \n11  0.2720   0.2612  0.25720  0.25710  \n12  0.2738   0.2618  0.25580  0.25370  \n13  0.2502   0.2387  0.23170  0.22800  \n14  0.2324   0.2244  0.21900  0.21560  ",
      "text/html": "<div>\n<style scoped>\n    .dataframe tbody tr th:only-of-type {\n        vertical-align: middle;\n    }\n\n    .dataframe tbody tr th {\n        vertical-align: top;\n    }\n\n    .dataframe thead th {\n        text-align: right;\n    }\n</style>\n<table border=\"1\" class=\"dataframe\">\n  <thead>\n    <tr style=\"text-align: right;\">\n      <th></th>\n      <th>Expiry</th>\n      <th>Tenor</th>\n      <th>-200bps</th>\n      <th>-150bps</th>\n      <th>-100bps</th>\n      <th>-50bps</th>\n      <th>-25bps</th>\n      <th>ATM</th>\n      <th>+25bps</th>\n      <th>+50bps</th>\n      <th>+100bps</th>\n      <th>+150bps</th>\n      <th>+200bps</th>\n    </tr>\n  </thead>\n  <tbody>\n    <tr>\n      <th>0</th>\n      <td>1Y</td>\n      <td>1Y</td>\n      <td>0.91570</td>\n      <td>0.62030</td>\n      <td>0.44130</td>\n      <td>0.31224</td>\n      <td>0.26182</td>\n      <td>0.2250</td>\n      <td>0.2096</td>\n      <td>0.2140</td>\n      <td>0.2434</td>\n      <td>0.27488</td>\n      <td>0.30297</td>\n    </tr>\n    <tr>\n      <th>1</th>\n      <td>1Y</td>\n      <td>2Y</td>\n      <td>0.83270</td>\n      <td>0.61240</td>\n      <td>0.46570</td>\n      <td>0.35807</td>\n      <td>0.31712</td>\n      <td>0.2872</td>\n      <td>0.2712</td>\n      <td>0.2684</td>\n      <td>0.2851</td>\n      <td>0.31025</td>\n      <td>0.33523</td>\n    </tr>\n    <tr>\n      <th>2</th>\n      <td>1Y</td>\n      <td>3Y</td>\n      <td>0.73920</td>\n      <td>0.56870</td>\n      <td>0.44770</td>\n      <td>0.35745</td>\n      <td>0.32317</td>\n      <td>0.2978</td>\n      <td>0.2829</td>\n      <td>0.2780</td>\n      <td>0.2877</td>\n      <td>0.30725</td>\n      <td>0.32833</td>\n    </tr>\n    <tr>\n      <th>3</th>\n      <td>1Y</td>\n      <td>5Y</td>\n      <td>0.55190</td>\n      <td>0.44640</td>\n      <td>0.36510</td>\n      <td>0.30242</td>\n      <td>0.27851</td>\n      <td>0.2607</td>\n      <td>0.2498</td>\n      <td>0.2456</td>\n      <td>0.2512</td>\n      <td>0.26536</td>\n      <td>0.28165</td>\n    </tr>\n    <tr>\n      <th>4</th>\n      <td>1Y</td>\n      <td>10Y</td>\n      <td>0.41180</td>\n      <td>0.35040</td>\n      <td>0.30207</td>\n      <td>0.26619</td>\n      <td>0.25351</td>\n      <td>0.2447</td>\n      <td>0.2398</td>\n      <td>0.2382</td>\n      <td>0.2425</td>\n      <td>0.25204</td>\n      <td>0.26355</td>\n    </tr>\n    <tr>\n      <th>5</th>\n      <td>5Y</td>\n      <td>1Y</td>\n      <td>0.67800</td>\n      <td>0.49090</td>\n      <td>0.38400</td>\n      <td>0.31485</td>\n      <td>0.29060</td>\n      <td>0.2726</td>\n      <td>0.2604</td>\n      <td>0.2532</td>\n      <td>0.2494</td>\n      <td>0.25320</td>\n      <td>0.25980</td>\n    </tr>\n    <tr>\n      <th>6</th>\n      <td>5Y</td>\n      <td>2Y</td>\n      <td>0.57880</td>\n      <td>0.46410</td>\n      <td>0.39033</td>\n      <td>0.33653</td>\n      <td>0.31531</td>\n      <td>0.2983</td>\n      <td>0.2856</td>\n      <td>0.2765</td>\n      <td>0.2671</td>\n      <td>0.26540</td>\n      <td>0.26760</td>\n    </tr>\n    <tr>\n      <th>7</th>\n      <td>5Y</td>\n      <td>3Y</td>\n      <td>0.53430</td>\n      <td>0.44440</td>\n      <td>0.38180</td>\n      <td>0.33437</td>\n      <td>0.31536</td>\n      <td>0.2998</td>\n      <td>0.2876</td>\n      <td>0.2782</td>\n      <td>0.2667</td>\n      <td>0.26200</td>\n      <td>0.26150</td>\n    </tr>\n    <tr>\n      <th>8</th>\n      <td>5Y</td>\n      <td>5Y</td>\n      <td>0.41990</td>\n      <td>0.36524</td>\n      <td>0.32326</td>\n      <td>0.29005</td>\n      <td>0.27677</td>\n      <td>0.2660</td>\n      <td>0.2573</td>\n      <td>0.2502</td>\n      <td>0.2406</td>\n      <td>0.23570</td>\n      <td>0.23400</td>\n    </tr>\n    <tr>\n      <th>9</th>\n      <td>5Y</td>\n      <td>10Y</td>\n      <td>0.34417</td>\n      <td>0.30948</td>\n      <td>0.28148</td>\n      <td>0.25954</td>\n      <td>0.25136</td>\n      <td>0.2451</td>\n      <td>0.2399</td>\n      <td>0.2356</td>\n      <td>0.2291</td>\n      <td>0.22490</td>\n      <td>0.22250</td>\n    </tr>\n    <tr>\n      <th>10</th>\n      <td>10Y</td>\n      <td>1Y</td>\n      <td>0.55160</td>\n      <td>0.44320</td>\n      <td>0.37368</td>\n      <td>0.32259</td>\n      <td>0.30210</td>\n      <td>0.2854</td>\n      <td>0.2731</td>\n      <td>0.2645</td>\n      <td>0.2561</td>\n      <td>0.25520</td>\n      <td>0.25780</td>\n    </tr>\n    <tr>\n      <th>11</th>\n      <td>10Y</td>\n      <td>2Y</td>\n      <td>0.51170</td>\n      <td>0.42900</td>\n      <td>0.37078</td>\n      <td>0.32622</td>\n      <td>0.30800</td>\n      <td>0.2928</td>\n      <td>0.2809</td>\n      <td>0.2720</td>\n      <td>0.2612</td>\n      <td>0.25720</td>\n      <td>0.25710</td>\n    </tr>\n    <tr>\n      <th>12</th>\n      <td>10Y</td>\n      <td>3Y</td>\n      <td>0.48220</td>\n      <td>0.41430</td>\n      <td>0.36400</td>\n      <td>0.32439</td>\n      <td>0.30796</td>\n      <td>0.2940</td>\n      <td>0.2827</td>\n      <td>0.2738</td>\n      <td>0.2618</td>\n      <td>0.25580</td>\n      <td>0.25370</td>\n    </tr>\n    <tr>\n      <th>13</th>\n      <td>10Y</td>\n      <td>5Y</td>\n      <td>0.40550</td>\n      <td>0.35891</td>\n      <td>0.32181</td>\n      <td>0.29144</td>\n      <td>0.27857</td>\n      <td>0.2674</td>\n      <td>0.2580</td>\n      <td>0.2502</td>\n      <td>0.2387</td>\n      <td>0.23170</td>\n      <td>0.22800</td>\n    </tr>\n    <tr>\n      <th>14</th>\n      <td>10Y</td>\n      <td>10Y</td>\n      <td>0.33601</td>\n      <td>0.30509</td>\n      <td>0.27978</td>\n      <td>0.25926</td>\n      <td>0.25086</td>\n      <td>0.2437</td>\n      <td>0.2376</td>\n      <td>0.2324</td>\n      <td>0.2244</td>\n      <td>0.21900</td>\n      <td>0.21560</td>\n    </tr>\n  </tbody>\n</table>\n</div>"
     },
     "execution_count": 3,
     "metadata": {},
     "output_type": "execute_result"
    }
   ],
   "source": [
    "### Reading and cleaning swaption mkt data\n",
    "swaption_data = pd.read_excel(\"IR Data.xlsx\", sheet_name='Swaption', header =2)\n",
    "\n",
    "# Change to pct\n",
    "swaption_data.iloc[:, 2:] = swaption_data.iloc[:, 2:]/100\n",
    "\n",
    "swaption_data"
   ],
   "metadata": {
    "collapsed": false,
    "ExecuteTime": {
     "end_time": "2024-04-02T14:20:14.593394Z",
     "start_time": "2024-04-02T14:20:14.574448Z"
    }
   },
   "id": "a5c24be65c0fe0d7",
   "execution_count": 3
  },
  {
   "cell_type": "code",
   "outputs": [],
   "source": [
    "libor_forward_rate = fwd_swap_rates[\"liborForwardSwapRate\"]"
   ],
   "metadata": {
    "collapsed": false,
    "ExecuteTime": {
     "end_time": "2024-04-02T14:20:14.596800Z",
     "start_time": "2024-04-02T14:20:14.594816Z"
    }
   },
   "id": "528f3512ec45ee1",
   "execution_count": 4
  },
  {
   "cell_type": "code",
   "outputs": [
    {
     "data": {
      "text/plain": "   Start Tenor\n0      1     1\n1      1     2\n2      1     3\n3      1     5\n4      1    10\n5      5     1\n6      5     2\n7      5     3\n8      5     5\n9      5    10\n10    10     1\n11    10     2\n12    10     3\n13    10     5\n14    10    10",
      "text/html": "<div>\n<style scoped>\n    .dataframe tbody tr th:only-of-type {\n        vertical-align: middle;\n    }\n\n    .dataframe tbody tr th {\n        vertical-align: top;\n    }\n\n    .dataframe thead th {\n        text-align: right;\n    }\n</style>\n<table border=\"1\" class=\"dataframe\">\n  <thead>\n    <tr style=\"text-align: right;\">\n      <th></th>\n      <th>Start</th>\n      <th>Tenor</th>\n    </tr>\n  </thead>\n  <tbody>\n    <tr>\n      <th>0</th>\n      <td>1</td>\n      <td>1</td>\n    </tr>\n    <tr>\n      <th>1</th>\n      <td>1</td>\n      <td>2</td>\n    </tr>\n    <tr>\n      <th>2</th>\n      <td>1</td>\n      <td>3</td>\n    </tr>\n    <tr>\n      <th>3</th>\n      <td>1</td>\n      <td>5</td>\n    </tr>\n    <tr>\n      <th>4</th>\n      <td>1</td>\n      <td>10</td>\n    </tr>\n    <tr>\n      <th>5</th>\n      <td>5</td>\n      <td>1</td>\n    </tr>\n    <tr>\n      <th>6</th>\n      <td>5</td>\n      <td>2</td>\n    </tr>\n    <tr>\n      <th>7</th>\n      <td>5</td>\n      <td>3</td>\n    </tr>\n    <tr>\n      <th>8</th>\n      <td>5</td>\n      <td>5</td>\n    </tr>\n    <tr>\n      <th>9</th>\n      <td>5</td>\n      <td>10</td>\n    </tr>\n    <tr>\n      <th>10</th>\n      <td>10</td>\n      <td>1</td>\n    </tr>\n    <tr>\n      <th>11</th>\n      <td>10</td>\n      <td>2</td>\n    </tr>\n    <tr>\n      <th>12</th>\n      <td>10</td>\n      <td>3</td>\n    </tr>\n    <tr>\n      <th>13</th>\n      <td>10</td>\n      <td>5</td>\n    </tr>\n    <tr>\n      <th>14</th>\n      <td>10</td>\n      <td>10</td>\n    </tr>\n  </tbody>\n</table>\n</div>"
     },
     "execution_count": 5,
     "metadata": {},
     "output_type": "execute_result"
    }
   ],
   "source": [
    "date_count_df = fwd_swap_rates[['Start','Tenor']]\n",
    "date_count_df = date_count_df.apply(lambda x: x.str.rstrip('Y')).copy()\n",
    "date_count_df"
   ],
   "metadata": {
    "collapsed": false,
    "ExecuteTime": {
     "end_time": "2024-04-02T14:20:14.601983Z",
     "start_time": "2024-04-02T14:20:14.597678Z"
    }
   },
   "id": "4799b0045407fb6b",
   "execution_count": 5
  },
  {
   "cell_type": "code",
   "outputs": [
    {
     "data": {
      "text/plain": "           0\n0   0.996139\n1   1.988791\n2   2.977832\n3   4.943924\n4   9.771149\n5   0.980959\n6   1.957022\n7   2.928051\n8   4.853642\n9   9.569368\n10  0.954542\n11  1.903351\n12  2.846462\n13  4.715726\n14  9.291511",
      "text/html": "<div>\n<style scoped>\n    .dataframe tbody tr th:only-of-type {\n        vertical-align: middle;\n    }\n\n    .dataframe tbody tr th {\n        vertical-align: top;\n    }\n\n    .dataframe thead th {\n        text-align: right;\n    }\n</style>\n<table border=\"1\" class=\"dataframe\">\n  <thead>\n    <tr style=\"text-align: right;\">\n      <th></th>\n      <th>0</th>\n    </tr>\n  </thead>\n  <tbody>\n    <tr>\n      <th>0</th>\n      <td>0.996139</td>\n    </tr>\n    <tr>\n      <th>1</th>\n      <td>1.988791</td>\n    </tr>\n    <tr>\n      <th>2</th>\n      <td>2.977832</td>\n    </tr>\n    <tr>\n      <th>3</th>\n      <td>4.943924</td>\n    </tr>\n    <tr>\n      <th>4</th>\n      <td>9.771149</td>\n    </tr>\n    <tr>\n      <th>5</th>\n      <td>0.980959</td>\n    </tr>\n    <tr>\n      <th>6</th>\n      <td>1.957022</td>\n    </tr>\n    <tr>\n      <th>7</th>\n      <td>2.928051</td>\n    </tr>\n    <tr>\n      <th>8</th>\n      <td>4.853642</td>\n    </tr>\n    <tr>\n      <th>9</th>\n      <td>9.569368</td>\n    </tr>\n    <tr>\n      <th>10</th>\n      <td>0.954542</td>\n    </tr>\n    <tr>\n      <th>11</th>\n      <td>1.903351</td>\n    </tr>\n    <tr>\n      <th>12</th>\n      <td>2.846462</td>\n    </tr>\n    <tr>\n      <th>13</th>\n      <td>4.715726</td>\n    </tr>\n    <tr>\n      <th>14</th>\n      <td>9.291511</td>\n    </tr>\n  </tbody>\n</table>\n</div>"
     },
     "execution_count": 6,
     "metadata": {},
     "output_type": "execute_result"
    }
   ],
   "source": [
    "pvbp = []\n",
    "for i in range(len(date_count_df)):\n",
    "    expiry = date_count_df['Start'][i]\n",
    "    T = date_count_df['Tenor'][i]\n",
    "    \n",
    "    pvbp.append(0.5 * sum(ois_disc_factor[2*int(expiry): (int(expiry)+int(T))*2]))\n",
    "pd.DataFrame(pvbp)"
   ],
   "metadata": {
    "collapsed": false,
    "ExecuteTime": {
     "end_time": "2024-04-02T14:20:14.607214Z",
     "start_time": "2024-04-02T14:20:14.602906Z"
    }
   },
   "id": "faa49e296e307083",
   "execution_count": 6
  },
  {
   "cell_type": "code",
   "outputs": [],
   "source": [
    "bps = np.array([-0.02, -0.015, -0.01, -0.005, -0.0025, 0, 0.0025, 0.005, 0.01, 0.015, 0.02])\n",
    "\n",
    "strike = []\n",
    "for i in range(len(libor_forward_rate)):\n",
    "    strike.append(libor_forward_rate[i] + bps)"
   ],
   "metadata": {
    "collapsed": false,
    "ExecuteTime": {
     "end_time": "2024-04-02T14:20:14.610178Z",
     "start_time": "2024-04-02T14:20:14.608058Z"
    }
   },
   "id": "607643059ce293f3",
   "execution_count": 7
  },
  {
   "cell_type": "markdown",
   "source": [
    "### Black Call Function"
   ],
   "metadata": {
    "collapsed": false
   },
   "id": "1fc312dd3d97f165"
  },
  {
   "cell_type": "code",
   "outputs": [],
   "source": [
    "def calculateBlackCall(S, K, T, sigma, pvbp):\n",
    "    d1 = (np.log(S/K)+ 0.5*(sigma**2)*T) / (sigma*np.sqrt(T))\n",
    "    d2 = d1 - sigma*np.sqrt(T)\n",
    "    blackCallPrice = pvbp * (S*norm.cdf(d1) - K*norm.cdf(d2))\n",
    "    return blackCallPrice"
   ],
   "metadata": {
    "collapsed": false,
    "ExecuteTime": {
     "end_time": "2024-04-02T14:20:14.612997Z",
     "start_time": "2024-04-02T14:20:14.610953Z"
    }
   },
   "id": "93f3a1bd6d2bc3d7",
   "execution_count": 8
  },
  {
   "cell_type": "markdown",
   "source": [
    "### Black Put Function"
   ],
   "metadata": {
    "collapsed": false
   },
   "id": "72afb624e2275828"
  },
  {
   "cell_type": "code",
   "outputs": [],
   "source": [
    "def calculateBlackPut(S, K, T, sigma, pvbp):\n",
    "    d1 = (np.log(S/K)+0.5*(sigma**2)*T) / (sigma*np.sqrt(T))\n",
    "    d2 = d1 - sigma*np.sqrt(T)\n",
    "    blackPutPrice = pvbp * (K*norm.cdf(-d2) - S*norm.cdf(-d1))\n",
    "    return blackPutPrice"
   ],
   "metadata": {
    "collapsed": false,
    "ExecuteTime": {
     "end_time": "2024-04-02T14:20:14.615596Z",
     "start_time": "2024-04-02T14:20:14.613636Z"
    }
   },
   "id": "af6f8d9865a06859",
   "execution_count": 9
  },
  {
   "cell_type": "markdown",
   "source": [
    "### DD Call Function"
   ],
   "metadata": {
    "collapsed": false
   },
   "id": "df6eca21b846437"
  },
  {
   "cell_type": "code",
   "outputs": [],
   "source": [
    "def calculateDDCall(S, K, T, pvbp, sigma, beta):\n",
    "    S_d = S/beta\n",
    "    K_d = K + ((1-beta)/beta)*S\n",
    "    sigma_d = sigma*beta\n",
    "    ddCallPrice = calculateBlackCall(S_d, K_d, T, sigma_d, pvbp)\n",
    "    return ddCallPrice"
   ],
   "metadata": {
    "collapsed": false,
    "ExecuteTime": {
     "end_time": "2024-04-02T14:20:14.619788Z",
     "start_time": "2024-04-02T14:20:14.617776Z"
    }
   },
   "id": "52bd4a76aa13d302",
   "execution_count": 10
  },
  {
   "cell_type": "markdown",
   "source": [
    "### DD Put Function"
   ],
   "metadata": {
    "collapsed": false
   },
   "id": "b6e21dd3d530317a"
  },
  {
   "cell_type": "code",
   "outputs": [],
   "source": [
    "def calculateDDPut(S, K, T, pvbp, sigma, beta):\n",
    "    S_d = S/beta\n",
    "    K_d = K + ((1-beta)/beta)*S\n",
    "    sigma_d = sigma*beta\n",
    "    ddPutPrice = calculateBlackPut(S_d, K_d, T, sigma_d, pvbp)\n",
    "    return ddPutPrice"
   ],
   "metadata": {
    "collapsed": false,
    "ExecuteTime": {
     "end_time": "2024-04-02T14:20:14.622304Z",
     "start_time": "2024-04-02T14:20:14.620449Z"
    }
   },
   "id": "5c0526bf751a9e41",
   "execution_count": 11
  },
  {
   "cell_type": "markdown",
   "source": [
    "### Calculate DD volatility"
   ],
   "metadata": {
    "collapsed": false
   },
   "id": "1527826663c327e4"
  },
  {
   "cell_type": "code",
   "outputs": [],
   "source": [
    "def DDvolatility(F, K, pvbp, T, sigma, beta):\n",
    "    if F <= K:\n",
    "        price = calculateDDCall(F, K, T, pvbp, sigma, beta)\n",
    "        vol = fsolve(lambda x: price - calculateBlackCall(F, K, T, x, pvbp), 0.5)\n",
    "\n",
    "    else:\n",
    "        price = calculateDDPut(F, K, T, pvbp, sigma, beta)\n",
    "        vol = fsolve(lambda x: price - calculateBlackPut(F, K, T, x, pvbp), 0.5)\n",
    "\n",
    "    return vol[0]"
   ],
   "metadata": {
    "collapsed": false,
    "ExecuteTime": {
     "end_time": "2024-04-02T14:20:14.625170Z",
     "start_time": "2024-04-02T14:20:14.623033Z"
    }
   },
   "id": "eebc14c34e0e300c",
   "execution_count": 12
  },
  {
   "cell_type": "markdown",
   "source": [
    "### Calculate DD calibration"
   ],
   "metadata": {
    "collapsed": false
   },
   "id": "e943ff71122ab56b"
  },
  {
   "cell_type": "code",
   "outputs": [],
   "source": [
    "def DDcalibration(x, K, vols, pvbp, F, T):\n",
    "    err = 0.0\n",
    "    sigma = vols[5]\n",
    "\n",
    "    for i, vol in enumerate(vols):\n",
    "        err += (vol - DDvolatility(F, K[i], pvbp, T, sigma, x))**2\n",
    "\n",
    "    return err"
   ],
   "metadata": {
    "collapsed": false,
    "ExecuteTime": {
     "end_time": "2024-04-02T14:20:14.627792Z",
     "start_time": "2024-04-02T14:20:14.625825Z"
    }
   },
   "id": "344ca12abc1edf27",
   "execution_count": 13
  },
  {
   "cell_type": "markdown",
   "source": [
    "### Compute Sigma and Beta values"
   ],
   "metadata": {
    "collapsed": false
   },
   "id": "fdc8dd747fd71b60"
  },
  {
   "cell_type": "code",
   "outputs": [],
   "source": [
    "start = date_count_df.Start\n",
    "tenor = date_count_df.Tenor\n",
    "\n",
    "beta_results = []\n",
    "initial_guess = [0.3]\n",
    "\n",
    "for i in range(len(pvbp)):\n",
    "    # print(\"\")\n",
    "    # print(\"\")\n",
    "    # print(\"\")\n",
    "    # print(f\"strike[{i}]: {strike[i]}\")\n",
    "    # print('')\n",
    "    # print(f\"swaptionData.values[{i}][2:]: {swaptionData.values[i][2:]}\")\n",
    "    # print('')\n",
    "    # print(f\"pvbp[{i}]: {pvbp[i]}\")\n",
    "    # print('')\n",
    "    # print(f\"libor_forwardRate[{i}]: {libor_forwardRate[i]}\")\n",
    "    # print('')\n",
    "    # print(f\"float(start[{i}]): {float(start[i])}\")\n",
    "\n",
    "    results = least_squares(lambda x: DDcalibration(x, strike[i], swaption_data.values[i][2:],\n",
    "                                                    pvbp[i], libor_forward_rate[i], T = int(start[i])),\n",
    "                            initial_guess, bounds = ([0,1]))\n",
    "\n",
    "    beta_results.append(results.x[0])"
   ],
   "metadata": {
    "collapsed": false,
    "ExecuteTime": {
     "end_time": "2024-04-02T14:20:16.016217Z",
     "start_time": "2024-04-02T14:20:14.628540Z"
    }
   },
   "id": "22678a4d5a5f3e00",
   "execution_count": 14
  },
  {
   "cell_type": "code",
   "outputs": [
    {
     "data": {
      "text/plain": "     Sigma          Beta\n0   0.2250  4.016757e-08\n1   0.2872  7.910586e-08\n2   0.2978  1.112788e-12\n3   0.2607  2.129367e-06\n4   0.2447  6.653472e-06\n5   0.2726  9.851157e-07\n6   0.2983  6.314974e-08\n7   0.2998  2.276905e-06\n8   0.2660  1.432528e-04\n9   0.2451  5.546195e-02\n10  0.2854  1.394942e-07\n11  0.2928  7.488150e-06\n12  0.2940  8.153621e-05\n13  0.2674  1.387630e-06\n14  0.2437  1.744433e-03",
      "text/html": "<div>\n<style scoped>\n    .dataframe tbody tr th:only-of-type {\n        vertical-align: middle;\n    }\n\n    .dataframe tbody tr th {\n        vertical-align: top;\n    }\n\n    .dataframe thead th {\n        text-align: right;\n    }\n</style>\n<table border=\"1\" class=\"dataframe\">\n  <thead>\n    <tr style=\"text-align: right;\">\n      <th></th>\n      <th>Sigma</th>\n      <th>Beta</th>\n    </tr>\n  </thead>\n  <tbody>\n    <tr>\n      <th>0</th>\n      <td>0.2250</td>\n      <td>4.016757e-08</td>\n    </tr>\n    <tr>\n      <th>1</th>\n      <td>0.2872</td>\n      <td>7.910586e-08</td>\n    </tr>\n    <tr>\n      <th>2</th>\n      <td>0.2978</td>\n      <td>1.112788e-12</td>\n    </tr>\n    <tr>\n      <th>3</th>\n      <td>0.2607</td>\n      <td>2.129367e-06</td>\n    </tr>\n    <tr>\n      <th>4</th>\n      <td>0.2447</td>\n      <td>6.653472e-06</td>\n    </tr>\n    <tr>\n      <th>5</th>\n      <td>0.2726</td>\n      <td>9.851157e-07</td>\n    </tr>\n    <tr>\n      <th>6</th>\n      <td>0.2983</td>\n      <td>6.314974e-08</td>\n    </tr>\n    <tr>\n      <th>7</th>\n      <td>0.2998</td>\n      <td>2.276905e-06</td>\n    </tr>\n    <tr>\n      <th>8</th>\n      <td>0.2660</td>\n      <td>1.432528e-04</td>\n    </tr>\n    <tr>\n      <th>9</th>\n      <td>0.2451</td>\n      <td>5.546195e-02</td>\n    </tr>\n    <tr>\n      <th>10</th>\n      <td>0.2854</td>\n      <td>1.394942e-07</td>\n    </tr>\n    <tr>\n      <th>11</th>\n      <td>0.2928</td>\n      <td>7.488150e-06</td>\n    </tr>\n    <tr>\n      <th>12</th>\n      <td>0.2940</td>\n      <td>8.153621e-05</td>\n    </tr>\n    <tr>\n      <th>13</th>\n      <td>0.2674</td>\n      <td>1.387630e-06</td>\n    </tr>\n    <tr>\n      <th>14</th>\n      <td>0.2437</td>\n      <td>1.744433e-03</td>\n    </tr>\n  </tbody>\n</table>\n</div>"
     },
     "execution_count": 15,
     "metadata": {},
     "output_type": "execute_result"
    }
   ],
   "source": [
    "sigma_beta_df = pd.concat([pd.DataFrame(swaption_data.iloc[:,7].values), pd.DataFrame(beta_results)], axis=1, ignore_index=True)\n",
    "sigma_beta_df = sigma_beta_df.rename(columns={0:'Sigma',1:'Beta'})\n",
    "sigma_beta_df"
   ],
   "metadata": {
    "collapsed": false,
    "ExecuteTime": {
     "end_time": "2024-04-02T14:20:16.022222Z",
     "start_time": "2024-04-02T14:20:16.017022Z"
    }
   },
   "id": "168ad705a569ae38",
   "execution_count": 15
  },
  {
   "cell_type": "markdown",
   "source": [
    "# Compute SABR Model"
   ],
   "metadata": {
    "collapsed": false
   },
   "id": "f30ce1af5e2a13ca"
  },
  {
   "cell_type": "code",
   "outputs": [],
   "source": [
    "def SABR(F, K, T, alpha, rho, nu, beta):\n",
    "    X = K\n",
    "    # if K is at-the-money-forward\n",
    "    if abs(F - K) < 1e-12:\n",
    "        numer1 = (((1 - beta)**2)/24)*alpha*alpha/(F**(2 - 2*beta))\n",
    "        numer2 = 0.25*rho*beta*nu*alpha/(F**(1 - beta))\n",
    "        numer3 = ((2 - 3*rho*rho)/24)*nu*nu\n",
    "        VolAtm = alpha*(1 + (numer1 + numer2 + numer3)*T)/(F**(1-beta))\n",
    "        sabr_sigma = VolAtm\n",
    "    else:\n",
    "        z = (nu/alpha)*((F*X)**(0.5*(1-beta)))*np.log(F/X)\n",
    "        zhi = np.log((((1 - 2*rho*z + z*z)**0.5) + z - rho)/(1 - rho))\n",
    "        numer1 = (((1 - beta)**2)/24)*((alpha*alpha)/((F*X)**(1 - beta)))\n",
    "        numer2 = 0.25*rho*beta*nu*alpha/((F*X)**((1 - beta)/2))\n",
    "        numer3 = ((2 - 3*rho*rho)/24)*nu*nu\n",
    "        numer = alpha*(1 + (numer1 + numer2 + numer3)*T)*z\n",
    "        denom1 = ((1 - beta)**2/24)*(np.log(F/X))**2\n",
    "        denom2 = (((1 - beta)**4)/1920)*((np.log(F/X))**4)\n",
    "        denom = ((F*X)**((1 - beta)/2))*(1 + denom1 + denom2)*zhi\n",
    "        sabr_sigma = numer/denom\n",
    "\n",
    "    return sabr_sigma"
   ],
   "metadata": {
    "collapsed": false,
    "ExecuteTime": {
     "end_time": "2024-04-02T14:20:16.027317Z",
     "start_time": "2024-04-02T14:20:16.023328Z"
    }
   },
   "id": "f37b96c40d05d1c0",
   "execution_count": 16
  },
  {
   "cell_type": "code",
   "outputs": [],
   "source": [
    "def sabr_calibration(F, strikes, T, market_vol, x, beta):\n",
    "    err = 0.0\n",
    "    for vol,K in zip(market_vol, strikes):\n",
    "        err += (vol - SABR(F, K, T, x[0], x[1], x[2], beta))**2\n",
    "    return err"
   ],
   "metadata": {
    "collapsed": false,
    "ExecuteTime": {
     "end_time": "2024-04-02T14:20:16.030019Z",
     "start_time": "2024-04-02T14:20:16.028052Z"
    }
   },
   "id": "1df150581aaf2888",
   "execution_count": 17
  },
  {
   "cell_type": "code",
   "outputs": [
    {
     "data": {
      "text/plain": "       Alpha       Rho        Nu\n0   0.139069 -0.633218  2.049472\n1   0.184647 -0.525118  1.677426\n2   0.196850 -0.482844  1.438148\n3   0.178068 -0.414472  1.064767\n4   0.171109 -0.264508  0.777964\n5   0.166511 -0.585060  1.339493\n6   0.199332 -0.546084  1.061349\n7   0.210333 -0.549753  0.936791\n8   0.187748 -0.490897  0.680981\n9   0.172521 -0.393682  0.525324\n10  0.176302 -0.541316  1.002082\n11  0.194435 -0.541974  0.923095\n12  0.202388 -0.537553  0.858051\n13  0.189969 -0.525370  0.711676\n14  0.180493 -0.508844  0.579020",
      "text/html": "<div>\n<style scoped>\n    .dataframe tbody tr th:only-of-type {\n        vertical-align: middle;\n    }\n\n    .dataframe tbody tr th {\n        vertical-align: top;\n    }\n\n    .dataframe thead th {\n        text-align: right;\n    }\n</style>\n<table border=\"1\" class=\"dataframe\">\n  <thead>\n    <tr style=\"text-align: right;\">\n      <th></th>\n      <th>Alpha</th>\n      <th>Rho</th>\n      <th>Nu</th>\n    </tr>\n  </thead>\n  <tbody>\n    <tr>\n      <th>0</th>\n      <td>0.139069</td>\n      <td>-0.633218</td>\n      <td>2.049472</td>\n    </tr>\n    <tr>\n      <th>1</th>\n      <td>0.184647</td>\n      <td>-0.525118</td>\n      <td>1.677426</td>\n    </tr>\n    <tr>\n      <th>2</th>\n      <td>0.196850</td>\n      <td>-0.482844</td>\n      <td>1.438148</td>\n    </tr>\n    <tr>\n      <th>3</th>\n      <td>0.178068</td>\n      <td>-0.414472</td>\n      <td>1.064767</td>\n    </tr>\n    <tr>\n      <th>4</th>\n      <td>0.171109</td>\n      <td>-0.264508</td>\n      <td>0.777964</td>\n    </tr>\n    <tr>\n      <th>5</th>\n      <td>0.166511</td>\n      <td>-0.585060</td>\n      <td>1.339493</td>\n    </tr>\n    <tr>\n      <th>6</th>\n      <td>0.199332</td>\n      <td>-0.546084</td>\n      <td>1.061349</td>\n    </tr>\n    <tr>\n      <th>7</th>\n      <td>0.210333</td>\n      <td>-0.549753</td>\n      <td>0.936791</td>\n    </tr>\n    <tr>\n      <th>8</th>\n      <td>0.187748</td>\n      <td>-0.490897</td>\n      <td>0.680981</td>\n    </tr>\n    <tr>\n      <th>9</th>\n      <td>0.172521</td>\n      <td>-0.393682</td>\n      <td>0.525324</td>\n    </tr>\n    <tr>\n      <th>10</th>\n      <td>0.176302</td>\n      <td>-0.541316</td>\n      <td>1.002082</td>\n    </tr>\n    <tr>\n      <th>11</th>\n      <td>0.194435</td>\n      <td>-0.541974</td>\n      <td>0.923095</td>\n    </tr>\n    <tr>\n      <th>12</th>\n      <td>0.202388</td>\n      <td>-0.537553</td>\n      <td>0.858051</td>\n    </tr>\n    <tr>\n      <th>13</th>\n      <td>0.189969</td>\n      <td>-0.525370</td>\n      <td>0.711676</td>\n    </tr>\n    <tr>\n      <th>14</th>\n      <td>0.180493</td>\n      <td>-0.508844</td>\n      <td>0.579020</td>\n    </tr>\n  </tbody>\n</table>\n</div>"
     },
     "execution_count": 18,
     "metadata": {},
     "output_type": "execute_result"
    }
   ],
   "source": [
    "start = date_count_df.Start\n",
    "tenor = date_count_df.Tenor\n",
    "\n",
    "alpha_results = []\n",
    "rho_results = []\n",
    "nu_results = []\n",
    "\n",
    "initial_guess = [0.1,-0.1,0.1]\n",
    "\n",
    "for i in range(len(pvbp)):\n",
    "    results = least_squares(lambda x: sabr_calibration(libor_forward_rate[i], strike[i], int(start[i]), swaption_data.values[i][2:], x, 0.9), initial_guess, bounds = ([0.0,-1.0,0.0], [np.inf, 1, np.inf]))\n",
    "\n",
    "    alpha_results.append(results.x[0])\n",
    "    rho_results.append(results.x[1])\n",
    "    nu_results.append(results.x[2])\n",
    "\n",
    "\n",
    "sabr_calibration_df = pd.concat([pd.DataFrame(alpha_results, columns=['Alpha']),pd.DataFrame(rho_results, columns=['Rho']),pd.DataFrame(nu_results, columns=['Nu'])], axis=1)\n",
    "\n",
    "sabr_calibration_df"
   ],
   "metadata": {
    "collapsed": false,
    "ExecuteTime": {
     "end_time": "2024-04-02T14:20:17.156089Z",
     "start_time": "2024-04-02T14:20:16.030651Z"
    }
   },
   "id": "e22e99b9428f02f4",
   "execution_count": 18
  },
  {
   "cell_type": "markdown",
   "source": [
    "### Find Libor Forward Swap (2x10) and (8x10)"
   ],
   "metadata": {
    "collapsed": false
   },
   "id": "16e5817a4f1ede6b"
  },
  {
   "cell_type": "code",
   "outputs": [
    {
     "data": {
      "text/plain": "  Start Tenor  liborForwardSwapRate\n0    2Y   10Y              0.039634\n1    8Y   10Y              0.048711",
      "text/html": "<div>\n<style scoped>\n    .dataframe tbody tr th:only-of-type {\n        vertical-align: middle;\n    }\n\n    .dataframe tbody tr th {\n        vertical-align: top;\n    }\n\n    .dataframe thead th {\n        text-align: right;\n    }\n</style>\n<table border=\"1\" class=\"dataframe\">\n  <thead>\n    <tr style=\"text-align: right;\">\n      <th></th>\n      <th>Start</th>\n      <th>Tenor</th>\n      <th>liborForwardSwapRate</th>\n    </tr>\n  </thead>\n  <tbody>\n    <tr>\n      <th>0</th>\n      <td>2Y</td>\n      <td>10Y</td>\n      <td>0.039634</td>\n    </tr>\n    <tr>\n      <th>1</th>\n      <td>8Y</td>\n      <td>10Y</td>\n      <td>0.048711</td>\n    </tr>\n  </tbody>\n</table>\n</div>"
     },
     "execution_count": 19,
     "metadata": {},
     "output_type": "execute_result"
    }
   ],
   "source": [
    "forward_swaps_2x10_8x10 = \\\n",
    "    [(2,10, 0.039634),\n",
    "     (8,10, 0.048711)]\n",
    "\n",
    "forward_swaps_df_2x10_8x10 = pd.DataFrame(columns=[\"Start\",\"Tenor\",\"liborForwardSwapRate\"])\n",
    "rows_list_part_2 = []\n",
    "\n",
    "for swap_combination in forward_swaps_2x10_8x10:\n",
    "    swap_start_special = swap_combination[0]\n",
    "    swap_tenor_special = swap_combination[1]\n",
    "    swap_rate_special = swap_combination[2]\n",
    "    new_row = pd.DataFrame({'Start':[str(swap_start_special)+\"Y\"], 'Tenor':[str(swap_tenor_special)+\"Y\"], 'liborForwardSwapRate':[swap_rate_special]})\n",
    "    rows_list_part_2.append(new_row)\n",
    "\n",
    "forward_swaps_df_2x10_8x10 = pd.concat(rows_list_part_2, ignore_index=True)\n",
    "forward_swaps_df_2x10_8x10"
   ],
   "metadata": {
    "collapsed": false,
    "ExecuteTime": {
     "end_time": "2024-04-02T14:20:17.161789Z",
     "start_time": "2024-04-02T14:20:17.156827Z"
    }
   },
   "id": "cf30f716d7a530ea",
   "execution_count": 19
  },
  {
   "cell_type": "markdown",
   "source": [
    "### Pricing swaption with DD and SABR model"
   ],
   "metadata": {
    "collapsed": false
   },
   "id": "8bab7f5211b61468"
  },
  {
   "cell_type": "code",
   "outputs": [],
   "source": [
    "payer_swaption_strikes = [0.01,0.02,0.03,0.04,0.05,0.06,0.07,0.08]\n",
    "receiver_swaption_strikes = [0.01,0.02,0.03,0.04,0.05,0.06,0.07,0.08]\n",
    "payer_expiry = 2\n",
    "payer_tenor = 10\n",
    "receiver_expiry = 8\n",
    "receiver_tenor = 10\n",
    "\n",
    "#Calculated from discount factors\n",
    "payer_forward = forward_swaps_df_2x10_8x10['liborForwardSwapRate'][0]\n",
    "receiver_forward = forward_swaps_df_2x10_8x10['liborForwardSwapRate'][1]"
   ],
   "metadata": {
    "collapsed": false,
    "ExecuteTime": {
     "end_time": "2024-04-02T14:20:17.164812Z",
     "start_time": "2024-04-02T14:20:17.162507Z"
    }
   },
   "id": "f3eed384839a9ec5",
   "execution_count": 20
  },
  {
   "cell_type": "markdown",
   "source": [
    "### Data interpolation"
   ],
   "metadata": {
    "collapsed": false
   },
   "id": "69a0d6836914fae9"
  },
  {
   "cell_type": "code",
   "outputs": [
    {
     "data": {
      "text/plain": "[[4.016757241201753e-08,\n  7.910586301855127e-08,\n  1.112787810319773e-12,\n  2.1293666333802474e-06,\n  6.653472235625298e-06],\n [9.851156869647574e-07,\n  6.31497354742053e-08,\n  2.2769054087135553e-06,\n  0.0001432527839299834,\n  0.055461954606832446],\n [1.3949423753015396e-07,\n  7.488150489023309e-06,\n  8.15362093539761e-05,\n  1.3876299805827205e-06,\n  0.0017444330389041196]]"
     },
     "execution_count": 21,
     "metadata": {},
     "output_type": "execute_result"
    }
   ],
   "source": [
    "#Interpolate the calibrated parameters\n",
    "expiries = np.array([1, 5, 10])\n",
    "tenors = np.array([1, 2, 3, 5, 10])\n",
    "DD_sigma = [list(sigma_beta_df.iloc[0:5,0].values),list(sigma_beta_df.iloc[5:10,0].values),list(sigma_beta_df.iloc[10:15,0].values)]\n",
    "DD_Beta = [list(sigma_beta_df.iloc[0:5,1].values),list(sigma_beta_df.iloc[5:10,1].values),list(sigma_beta_df.iloc[10:15,1].values)]\n",
    "SABR_alpha = [list(sabr_calibration_df.iloc[0:5,0].values),list(sabr_calibration_df.iloc[5:10,0].values),list(sabr_calibration_df.iloc[10:15,0].values)]\n",
    "SABR_rho = [list(sabr_calibration_df.iloc[0:5,1].values),list(sabr_calibration_df.iloc[5:10,1].values),list(sabr_calibration_df.iloc[10:15,1].values)]\n",
    "SABR_nu = [list(sabr_calibration_df.iloc[0:5,2].values),list(sabr_calibration_df.iloc[5:10,2].values),list(sabr_calibration_df.iloc[10:15,2].values)]\n",
    "\n",
    "\n",
    "#beta and sigma\n",
    "def interpolate_dd_parameters(t, e, tenors, expiries):\n",
    "    f_linear_beta = interp2d(tenors, expiries, DD_Beta, kind='linear')\n",
    "    f_linear_sigma = interp2d(tenors, expiries, DD_sigma, kind='linear')\n",
    "    interpolated_beta_linear = f_linear_beta(t, e)\n",
    "    interpolated_sigma_linear = f_linear_sigma(t, e)\n",
    "\n",
    "    return interpolated_beta_linear[0], interpolated_sigma_linear[0]\n",
    "\n",
    "#alpha, rho and nu\n",
    "def interpolate_sabr_parameters(t, e, tenors, expiries):\n",
    "    f_linear_alpha = interp2d(tenors, expiries, SABR_alpha, kind='linear')\n",
    "    f_linear_rho = interp2d(tenors, expiries, SABR_rho, kind='linear')\n",
    "    f_linear_nu = interp2d(tenors, expiries, SABR_nu, kind='linear')\n",
    "    interpolated_alpha_linear = f_linear_alpha(t, e)\n",
    "    interpolated_rho_linear = f_linear_rho(t, e)\n",
    "    interpolated_nu_linear = f_linear_nu(t, e)\n",
    "\n",
    "    return interpolated_alpha_linear[0], interpolated_rho_linear[0], interpolated_nu_linear[0]\n",
    "\n",
    "DD_Beta"
   ],
   "metadata": {
    "collapsed": false,
    "ExecuteTime": {
     "end_time": "2024-04-02T14:20:17.172668Z",
     "start_time": "2024-04-02T14:20:17.165440Z"
    }
   },
   "id": "42f38f74ef6c04f8",
   "execution_count": 21
  },
  {
   "cell_type": "markdown",
   "source": [
    "### Payer Swaption"
   ],
   "metadata": {
    "collapsed": false
   },
   "id": "f5869ddcab5a7397"
  },
  {
   "cell_type": "code",
   "outputs": [],
   "source": [
    "beta, sigma = interpolate_dd_parameters(10, 2, tenors, expiries)\n",
    "alpha, rho, nu = interpolate_sabr_parameters(10, 2, tenors, expiries)"
   ],
   "metadata": {
    "collapsed": false,
    "ExecuteTime": {
     "end_time": "2024-04-02T14:20:17.176020Z",
     "start_time": "2024-04-02T14:20:17.173595Z"
    }
   },
   "id": "731f458e964a9880",
   "execution_count": 22
  },
  {
   "cell_type": "code",
   "outputs": [
    {
     "data": {
      "text/plain": "0.01387047875588483"
     },
     "execution_count": 23,
     "metadata": {},
     "output_type": "execute_result"
    }
   ],
   "source": [
    "beta"
   ],
   "metadata": {
    "collapsed": false,
    "ExecuteTime": {
     "end_time": "2024-04-02T14:20:17.178886Z",
     "start_time": "2024-04-02T14:20:17.176684Z"
    }
   },
   "id": "9864fe03744a9b10",
   "execution_count": 23
  },
  {
   "cell_type": "code",
   "outputs": [],
   "source": [
    "payer = pd.DataFrame(index=payer_swaption_strikes,columns=['DD Price', 'SABR Price'])\n",
    "present_value_2_10 = 0.5 * sum(ois_disc_factor[2*int(2): (int(2)+int(10))*2])\n",
    "\n",
    "for K in payer_swaption_strikes:\n",
    "    payer.loc[K]['DD Price'] = calculateDDCall(payer_forward, K, 2, present_value_2_10, sigma, beta)\n",
    "\n",
    "for K in payer_swaption_strikes:\n",
    "    SABR_vol = SABR(payer_forward, K, 2, alpha, rho, nu, 0.9)\n",
    "    payer.loc[K]['SABR Price'] = calculateBlackCall(payer_forward, K, 2, SABR_vol, present_value_2_10)"
   ],
   "metadata": {
    "collapsed": false,
    "ExecuteTime": {
     "end_time": "2024-04-02T14:20:17.184853Z",
     "start_time": "2024-04-02T14:20:17.179780Z"
    }
   },
   "id": "a495f10860ddd8c8",
   "execution_count": 24
  },
  {
   "cell_type": "code",
   "outputs": [
    {
     "data": {
      "text/plain": "            DD Price SABR Price\nStrike (%)                     \n0.01         0.28886   0.290351\n0.02        0.195421    0.19879\n0.03        0.112604   0.115338\n0.04        0.051471     0.0521\n0.05        0.017408   0.021492\n0.06        0.004116   0.010967\n0.07        0.000653   0.006858\n0.08        0.000068   0.004863",
      "text/html": "<div>\n<style scoped>\n    .dataframe tbody tr th:only-of-type {\n        vertical-align: middle;\n    }\n\n    .dataframe tbody tr th {\n        vertical-align: top;\n    }\n\n    .dataframe thead th {\n        text-align: right;\n    }\n</style>\n<table border=\"1\" class=\"dataframe\">\n  <thead>\n    <tr style=\"text-align: right;\">\n      <th></th>\n      <th>DD Price</th>\n      <th>SABR Price</th>\n    </tr>\n    <tr>\n      <th>Strike (%)</th>\n      <th></th>\n      <th></th>\n    </tr>\n  </thead>\n  <tbody>\n    <tr>\n      <th>0.01</th>\n      <td>0.28886</td>\n      <td>0.290351</td>\n    </tr>\n    <tr>\n      <th>0.02</th>\n      <td>0.195421</td>\n      <td>0.19879</td>\n    </tr>\n    <tr>\n      <th>0.03</th>\n      <td>0.112604</td>\n      <td>0.115338</td>\n    </tr>\n    <tr>\n      <th>0.04</th>\n      <td>0.051471</td>\n      <td>0.0521</td>\n    </tr>\n    <tr>\n      <th>0.05</th>\n      <td>0.017408</td>\n      <td>0.021492</td>\n    </tr>\n    <tr>\n      <th>0.06</th>\n      <td>0.004116</td>\n      <td>0.010967</td>\n    </tr>\n    <tr>\n      <th>0.07</th>\n      <td>0.000653</td>\n      <td>0.006858</td>\n    </tr>\n    <tr>\n      <th>0.08</th>\n      <td>0.000068</td>\n      <td>0.004863</td>\n    </tr>\n  </tbody>\n</table>\n</div>"
     },
     "execution_count": 25,
     "metadata": {},
     "output_type": "execute_result"
    }
   ],
   "source": [
    "payer.index.names = ['Strike (%)']\n",
    "payer"
   ],
   "metadata": {
    "collapsed": false,
    "ExecuteTime": {
     "end_time": "2024-04-02T14:20:17.189243Z",
     "start_time": "2024-04-02T14:20:17.185709Z"
    }
   },
   "id": "aa8d943554aa23b8",
   "execution_count": 25
  },
  {
   "cell_type": "markdown",
   "source": [
    "### Receiver Swaption"
   ],
   "metadata": {
    "collapsed": false
   },
   "id": "658f4b45959371c9"
  },
  {
   "cell_type": "code",
   "outputs": [
    {
     "data": {
      "text/plain": "0.023231441666075454"
     },
     "execution_count": 26,
     "metadata": {},
     "output_type": "execute_result"
    }
   ],
   "source": [
    "beta_10, sigma_10 = interpolate_dd_parameters(10, 8, tenors, expiries)\n",
    "alpha_10, rho_10, nu_10 = interpolate_sabr_parameters(10, 8, tenors, expiries)\n",
    "\n",
    "beta_10"
   ],
   "metadata": {
    "collapsed": false,
    "ExecuteTime": {
     "end_time": "2024-04-02T14:20:17.193247Z",
     "start_time": "2024-04-02T14:20:17.189889Z"
    }
   },
   "id": "e18db2ce629a74be",
   "execution_count": 26
  },
  {
   "cell_type": "code",
   "outputs": [],
   "source": [
    "receiver = pd.DataFrame(index=payer_swaption_strikes,columns=['DD Price', 'SABR Price'])\n",
    "present_value_8_10 = 0.5 * sum(ois_disc_factor[2*int(8): (int(8)+int(10))*2])\n",
    "\n",
    "for K in receiver_swaption_strikes:\n",
    "    receiver.loc[K]['DD Price'] = calculateDDPut(payer_forward, K, 8, present_value_8_10, sigma_10, beta_10)\n",
    "\n",
    "for K in receiver_swaption_strikes:\n",
    "    SABR_vol = SABR(payer_forward, K, 2, alpha, rho, nu, 0.9)\n",
    "    receiver.loc[K]['SABR Price'] = calculateBlackPut(payer_forward, K, 8, SABR_vol, present_value_8_10)"
   ],
   "metadata": {
    "collapsed": false,
    "ExecuteTime": {
     "end_time": "2024-04-02T14:20:17.199013Z",
     "start_time": "2024-04-02T14:20:17.194097Z"
    }
   },
   "id": "e4a0c85deb1b4f61",
   "execution_count": 27
  },
  {
   "cell_type": "code",
   "outputs": [
    {
     "data": {
      "text/plain": "            DD Price SABR Price\nStrike (%)                     \n0.01        0.017801   0.025097\n0.02        0.035281   0.044756\n0.03        0.063444   0.067788\n0.04         0.10446    0.10433\n0.05        0.159021   0.167186\n0.06         0.22611   0.249013\n0.07        0.303393   0.337884\n0.08        0.387989   0.429366",
      "text/html": "<div>\n<style scoped>\n    .dataframe tbody tr th:only-of-type {\n        vertical-align: middle;\n    }\n\n    .dataframe tbody tr th {\n        vertical-align: top;\n    }\n\n    .dataframe thead th {\n        text-align: right;\n    }\n</style>\n<table border=\"1\" class=\"dataframe\">\n  <thead>\n    <tr style=\"text-align: right;\">\n      <th></th>\n      <th>DD Price</th>\n      <th>SABR Price</th>\n    </tr>\n    <tr>\n      <th>Strike (%)</th>\n      <th></th>\n      <th></th>\n    </tr>\n  </thead>\n  <tbody>\n    <tr>\n      <th>0.01</th>\n      <td>0.017801</td>\n      <td>0.025097</td>\n    </tr>\n    <tr>\n      <th>0.02</th>\n      <td>0.035281</td>\n      <td>0.044756</td>\n    </tr>\n    <tr>\n      <th>0.03</th>\n      <td>0.063444</td>\n      <td>0.067788</td>\n    </tr>\n    <tr>\n      <th>0.04</th>\n      <td>0.10446</td>\n      <td>0.10433</td>\n    </tr>\n    <tr>\n      <th>0.05</th>\n      <td>0.159021</td>\n      <td>0.167186</td>\n    </tr>\n    <tr>\n      <th>0.06</th>\n      <td>0.22611</td>\n      <td>0.249013</td>\n    </tr>\n    <tr>\n      <th>0.07</th>\n      <td>0.303393</td>\n      <td>0.337884</td>\n    </tr>\n    <tr>\n      <th>0.08</th>\n      <td>0.387989</td>\n      <td>0.429366</td>\n    </tr>\n  </tbody>\n</table>\n</div>"
     },
     "execution_count": 28,
     "metadata": {},
     "output_type": "execute_result"
    }
   ],
   "source": [
    "receiver.index.names = ['Strike (%)']\n",
    "receiver"
   ],
   "metadata": {
    "collapsed": false,
    "ExecuteTime": {
     "end_time": "2024-04-02T14:20:17.205973Z",
     "start_time": "2024-04-02T14:20:17.202454Z"
    }
   },
   "id": "45e40c304e64865b",
   "execution_count": 28
  },
  {
   "cell_type": "markdown",
   "source": [
    "### Export Datasets"
   ],
   "metadata": {
    "collapsed": false
   },
   "id": "e16cbd3cf1763143"
  },
  {
   "cell_type": "code",
   "outputs": [],
   "source": [
    "with pd.ExcelWriter(\"Data_2_Output.xlsx\") as writer:\n",
    "    pd.concat([date_count_df,pd.DataFrame(pvbp, columns=['PVBP'])], axis=1).to_excel(writer, sheet_name='PVBP',index=True)\n",
    "    pd.concat([date_count_df,sabr_calibration_df], axis=1).to_excel(writer, sheet_name='SABR_Results',index=True)\n",
    "    pd.concat([date_count_df,sigma_beta_df], axis=1).to_excel(writer, sheet_name='DD_Results',index=True)"
   ],
   "metadata": {
    "collapsed": false,
    "ExecuteTime": {
     "end_time": "2024-04-02T14:20:17.257509Z",
     "start_time": "2024-04-02T14:20:17.206954Z"
    }
   },
   "id": "7ab9487da407c662",
   "execution_count": 29
  },
  {
   "cell_type": "code",
   "outputs": [],
   "source": [
    "with pd.ExcelWriter(\"Data_3_Output.xlsx\") as writer:\n",
    "    payer.to_excel(writer, sheet_name='Payer_Swaption',index=True)\n",
    "    receiver.to_excel(writer, sheet_name='Receiver_Swaption',index=True)"
   ],
   "metadata": {
    "collapsed": false,
    "ExecuteTime": {
     "end_time": "2024-04-02T14:20:17.264696Z",
     "start_time": "2024-04-02T14:20:17.258265Z"
    }
   },
   "id": "3bc5ac34af04b7c9",
   "execution_count": 30
  }
 ],
 "metadata": {
  "kernelspec": {
   "display_name": "Python 3",
   "language": "python",
   "name": "python3"
  },
  "language_info": {
   "codemirror_mode": {
    "name": "ipython",
    "version": 2
   },
   "file_extension": ".py",
   "mimetype": "text/x-python",
   "name": "python",
   "nbconvert_exporter": "python",
   "pygments_lexer": "ipython2",
   "version": "2.7.6"
  }
 },
 "nbformat": 4,
 "nbformat_minor": 5
}
