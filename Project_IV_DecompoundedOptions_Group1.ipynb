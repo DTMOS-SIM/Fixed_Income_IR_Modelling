{
 "cells": [
  {
   "cell_type": "code",
   "execution_count": 1,
   "metadata": {
    "ExecuteTime": {
     "end_time": "2024-04-02T14:21:48.299355Z",
     "start_time": "2024-04-02T14:21:47.952429Z"
    }
   },
   "outputs": [],
   "source": [
    "import pandas as pd\n",
    "import numpy as np\n",
    "\n",
    "from scipy import integrate\n",
    "\n",
    "import warnings\n",
    "warnings.filterwarnings('ignore')"
   ]
  },
  {
   "cell_type": "code",
   "execution_count": 2,
   "metadata": {
    "ExecuteTime": {
     "end_time": "2024-04-02T14:21:48.417601Z",
     "start_time": "2024-04-02T14:21:48.300547Z"
    }
   },
   "outputs": [],
   "source": [
    "## helper functions\n",
    "\n",
    "from scipy.stats import norm\n",
    "\n",
    "def SABR(F, K, T, alpha, beta, rho, nu):\n",
    "    X = K\n",
    "    # if K is at-the-money-forward\n",
    "    if abs(F - K) < 1e-12:\n",
    "        numer1 = (((1 - beta)**2)/24)*alpha*alpha/(F**(2 - 2*beta))\n",
    "        numer2 = 0.25*rho*beta*nu*alpha/(F**(1 - beta))\n",
    "        numer3 = ((2 - 3*rho*rho)/24)*nu*nu\n",
    "        VolAtm = alpha*(1 + (numer1 + numer2 + numer3)*T)/(F**(1-beta))\n",
    "        sabrsigma = VolAtm\n",
    "    else:\n",
    "        z = (nu/alpha)*((F*X)**(0.5*(1-beta)))*np.log(F/X)\n",
    "        zhi = np.log((((1 - 2*rho*z + z*z)**0.5) + z - rho)/(1 - rho))\n",
    "        numer1 = (((1 - beta)**2)/24)*((alpha*alpha)/((F*X)**(1 - beta)))\n",
    "        numer2 = 0.25*rho*beta*nu*alpha/((F*X)**((1 - beta)/2))\n",
    "        numer3 = ((2 - 3*rho*rho)/24)*nu*nu\n",
    "        numer = alpha*(1 + (numer1 + numer2 + numer3)*T)*z\n",
    "        denom1 = ((1 - beta)**2/24)*(np.log(F/X))**2\n",
    "        denom2 = (((1 - beta)**4)/1920)*((np.log(F/X))**4)\n",
    "        denom = ((F*X)**((1 - beta)/2))*(1 + denom1 + denom2)*zhi\n",
    "        sabrsigma = numer/denom\n",
    "\n",
    "    return sabrsigma\n",
    "\n",
    "def Black76Lognormal(F, K, r, sigma, T, opt):\n",
    "    d1 = (np.log(F/K)+(sigma*sigma/2)*T)/(sigma*np.sqrt(T))\n",
    "    d2 = d1-sigma*np.sqrt(T)\n",
    "    if opt == 'Call':\n",
    "        return F*np.exp(-r*T)*norm.cdf(d1) - K*np.exp(-r*T)*norm.cdf(d2)\n",
    "    elif opt == 'Put':\n",
    "        return K*np.exp(-r*T)*norm.cdf(-d2) - F*np.exp(-r*T)*norm.cdf(-d1)"
   ]
  },
  {
   "cell_type": "markdown",
   "metadata": {},
   "source": [
    "$$CMS\\;Rate\\;Payoff =  D(0,T) F + \\int_0^F h''(K) V^{rec}(K) dK + \\int_F^\\infty h''(K) V^{pay}(K) dK $$"
   ]
  },
  {
   "cell_type": "markdown",
   "metadata": {},
   "source": [
    "### IRR\n",
    "From cms_replication.ipynb"
   ]
  },
  {
   "cell_type": "code",
   "execution_count": 3,
   "metadata": {
    "ExecuteTime": {
     "end_time": "2024-04-02T14:21:48.421039Z",
     "start_time": "2024-04-02T14:21:48.418253Z"
    }
   },
   "outputs": [],
   "source": [
    "def IRR_0(K, m, N):\n",
    "    # implementation of IRR(K) function\n",
    "    value = 1/K * ( 1.0 - 1/(1 + K/m)**(N*m) )\n",
    "    return value\n",
    "\n",
    "def IRR_1(K, m, N):\n",
    "    # implementation of IRR'(K) function (1st derivative)\n",
    "    firstDerivative = -1/K*IRR_0(K, m, N) + 1/(K*m)*N*m/(1+K/m)**(N*m+1)\n",
    "    return firstDerivative\n",
    "\n",
    "def IRR_2(K, m, N):\n",
    "    # implementation of IRR''(K) function (2nd derivative)\n",
    "    secondDerivative = -2/K*IRR_1(K, m, N) - 1/(K*m*m)*(N*m)*(N*m+1)/(1+K/m)**(N*m+2)\n",
    "    return secondDerivative"
   ]
  },
  {
   "cell_type": "markdown",
   "metadata": {},
   "source": [
    "### CMS Rate Payment $g(K)$\n",
    "\n",
    "\\begin{align*}\n",
    "\n",
    "g(K) &= CMS 10Y ^{\\frac{1}{4}} - 0.04^{\\frac{1}{2}} \\\\\n",
    "&= K^{\\frac{1}{4}} - 0.2 \\\\ \\\\\n",
    "g'(K) &= \\frac{1}{4} K^{-\\frac{3}{4}} \\\\ \\\\\n",
    "g''(K) &= -\\frac{3}{16} K^{-\\frac{7}{4}}\n",
    "\n",
    "\\end{align*}\n",
    "\n",
    "$$ \n"
   ]
  },
  {
   "cell_type": "code",
   "execution_count": 4,
   "metadata": {
    "ExecuteTime": {
     "end_time": "2024-04-02T14:21:48.424085Z",
     "start_time": "2024-04-02T14:21:48.421849Z"
    }
   },
   "outputs": [],
   "source": [
    "# template from cms_replication.ipynb\n",
    "# altered to fit the payoff for question\n",
    "\n",
    "def g_0(K):\n",
    "    return K**(1/4) - 0.2\n",
    "\n",
    "def g_1(K):\n",
    "    return (1/4)*K**(-3/4)\n",
    "\n",
    "def g_2(K): \n",
    "    return (-3/16) * K ** (-7/4)"
   ]
  },
  {
   "cell_type": "markdown",
   "metadata": {},
   "source": [
    "### $h(K)$"
   ]
  },
  {
   "cell_type": "code",
   "execution_count": 5,
   "metadata": {
    "ExecuteTime": {
     "end_time": "2024-04-02T14:21:48.428906Z",
     "start_time": "2024-04-02T14:21:48.425949Z"
    }
   },
   "outputs": [],
   "source": [
    "# from cms_replication.ipynb\n",
    "\n",
    "def h_0(K, m, N):\n",
    "    # implementation of h(K)\n",
    "    value = g_0(K) / IRR_0(K, m, N)\n",
    "    return value\n",
    "\n",
    "def h_1(K, m, N):\n",
    "    # implementation of h'(K) (1st derivative)\n",
    "    firstDerivative = (IRR_0(K, m, N)*g_1(K) - g_0(K)*IRR_1(K, m, N)) / IRR_0(K, m, N)**2\n",
    "    return firstDerivative\n",
    "\n",
    "def h_2(K, m, N):\n",
    "    # implementation of h''(K) (2nd derivative)\n",
    "    secondDerivative = ((IRR_0(K, m, N)*g_2(K) - IRR_2(K, m, N)*g_0(K) - 2.0*IRR_1(K, m, N)*g_1(K))/IRR_0(K, m, N)**2 \n",
    "                        + 2.0*IRR_1(K, m, N)**2*g_0(K)/IRR_0(K, m, N)**3)\n",
    "    return secondDerivative"
   ]
  },
  {
   "cell_type": "markdown",
   "metadata": {},
   "source": [
    "\\begin{align*}\n",
    "V^{pay}(K) &= Black76Call(S_{n,N}(0),K,\\sigma_{n,N},T) \\\\\n",
    "V^{rec}(K) &= Black76Put(S_{n,N}(0),K,\\sigma_{n,N},T)\n",
    "\\end{align*}\n",
    "\n",
    "where $S_{n,N}(0)=F$ is today's $(T=5)$ forward swap rate $(5 X 10)$ calculated based on the curves we bootstrapped, and $\\sigma_{n,N}$ is the SABR implied volatility calibrated to swaption market data."
   ]
  },
  {
   "cell_type": "code",
   "execution_count": 6,
   "metadata": {
    "ExecuteTime": {
     "end_time": "2024-04-02T14:21:48.534188Z",
     "start_time": "2024-04-02T14:21:48.429638Z"
    }
   },
   "outputs": [],
   "source": [
    "### Getting Data\n",
    "\n",
    "oisDiscFactors = pd.read_excel(\"Data_1_Output.xlsx\", sheet_name='oisDiscFactors')\n",
    "fwdSwapRates = pd.read_excel(\"Data_1_Output.xlsx\", sheet_name='fwdSwapRates')"
   ]
  },
  {
   "cell_type": "code",
   "execution_count": 7,
   "metadata": {
    "ExecuteTime": {
     "end_time": "2024-04-02T14:21:48.541660Z",
     "start_time": "2024-04-02T14:21:48.534911Z"
    }
   },
   "outputs": [
    {
     "data": {
      "text/plain": "    T0    TN  DiscountFactor\n0    0   0.0        1.000000\n1    0   0.5        0.998752\n2    0   1.0        0.997009\n3    0   1.5        0.995270\n4    0   2.0        0.993531\n..  ..   ...             ...\n56   0  28.0        0.857703\n57   0  28.5        0.855126\n58   0  29.0        0.852548\n59   0  29.5        0.849986\n60   0  30.0        0.847424\n\n[61 rows x 3 columns]",
      "text/html": "<div>\n<style scoped>\n    .dataframe tbody tr th:only-of-type {\n        vertical-align: middle;\n    }\n\n    .dataframe tbody tr th {\n        vertical-align: top;\n    }\n\n    .dataframe thead th {\n        text-align: right;\n    }\n</style>\n<table border=\"1\" class=\"dataframe\">\n  <thead>\n    <tr style=\"text-align: right;\">\n      <th></th>\n      <th>T0</th>\n      <th>TN</th>\n      <th>DiscountFactor</th>\n    </tr>\n  </thead>\n  <tbody>\n    <tr>\n      <th>0</th>\n      <td>0</td>\n      <td>0.0</td>\n      <td>1.000000</td>\n    </tr>\n    <tr>\n      <th>1</th>\n      <td>0</td>\n      <td>0.5</td>\n      <td>0.998752</td>\n    </tr>\n    <tr>\n      <th>2</th>\n      <td>0</td>\n      <td>1.0</td>\n      <td>0.997009</td>\n    </tr>\n    <tr>\n      <th>3</th>\n      <td>0</td>\n      <td>1.5</td>\n      <td>0.995270</td>\n    </tr>\n    <tr>\n      <th>4</th>\n      <td>0</td>\n      <td>2.0</td>\n      <td>0.993531</td>\n    </tr>\n    <tr>\n      <th>...</th>\n      <td>...</td>\n      <td>...</td>\n      <td>...</td>\n    </tr>\n    <tr>\n      <th>56</th>\n      <td>0</td>\n      <td>28.0</td>\n      <td>0.857703</td>\n    </tr>\n    <tr>\n      <th>57</th>\n      <td>0</td>\n      <td>28.5</td>\n      <td>0.855126</td>\n    </tr>\n    <tr>\n      <th>58</th>\n      <td>0</td>\n      <td>29.0</td>\n      <td>0.852548</td>\n    </tr>\n    <tr>\n      <th>59</th>\n      <td>0</td>\n      <td>29.5</td>\n      <td>0.849986</td>\n    </tr>\n    <tr>\n      <th>60</th>\n      <td>0</td>\n      <td>30.0</td>\n      <td>0.847424</td>\n    </tr>\n  </tbody>\n</table>\n<p>61 rows × 3 columns</p>\n</div>"
     },
     "execution_count": 7,
     "metadata": {},
     "output_type": "execute_result"
    }
   ],
   "source": [
    "oisDiscFactors"
   ]
  },
  {
   "cell_type": "code",
   "execution_count": 8,
   "metadata": {
    "ExecuteTime": {
     "end_time": "2024-04-02T14:21:48.546033Z",
     "start_time": "2024-04-02T14:21:48.542342Z"
    }
   },
   "outputs": [
    {
     "data": {
      "text/plain": "   Start Tenor  liborForwardSwapRate\n0     1Y    1Y              0.032007\n1     1Y    2Y              0.033259\n2     1Y    3Y              0.034011\n3     1Y    5Y              0.035255\n4     1Y   10Y              0.038428\n5     5Y    1Y              0.039274\n6     5Y    2Y              0.040075\n7     5Y    3Y              0.040072\n8     5Y    5Y              0.041093\n9     5Y   10Y              0.043634\n10   10Y    1Y              0.042190\n11   10Y    2Y              0.043116\n12   10Y    3Y              0.044097\n13   10Y    5Y              0.046249\n14   10Y   10Y              0.053458",
      "text/html": "<div>\n<style scoped>\n    .dataframe tbody tr th:only-of-type {\n        vertical-align: middle;\n    }\n\n    .dataframe tbody tr th {\n        vertical-align: top;\n    }\n\n    .dataframe thead th {\n        text-align: right;\n    }\n</style>\n<table border=\"1\" class=\"dataframe\">\n  <thead>\n    <tr style=\"text-align: right;\">\n      <th></th>\n      <th>Start</th>\n      <th>Tenor</th>\n      <th>liborForwardSwapRate</th>\n    </tr>\n  </thead>\n  <tbody>\n    <tr>\n      <th>0</th>\n      <td>1Y</td>\n      <td>1Y</td>\n      <td>0.032007</td>\n    </tr>\n    <tr>\n      <th>1</th>\n      <td>1Y</td>\n      <td>2Y</td>\n      <td>0.033259</td>\n    </tr>\n    <tr>\n      <th>2</th>\n      <td>1Y</td>\n      <td>3Y</td>\n      <td>0.034011</td>\n    </tr>\n    <tr>\n      <th>3</th>\n      <td>1Y</td>\n      <td>5Y</td>\n      <td>0.035255</td>\n    </tr>\n    <tr>\n      <th>4</th>\n      <td>1Y</td>\n      <td>10Y</td>\n      <td>0.038428</td>\n    </tr>\n    <tr>\n      <th>5</th>\n      <td>5Y</td>\n      <td>1Y</td>\n      <td>0.039274</td>\n    </tr>\n    <tr>\n      <th>6</th>\n      <td>5Y</td>\n      <td>2Y</td>\n      <td>0.040075</td>\n    </tr>\n    <tr>\n      <th>7</th>\n      <td>5Y</td>\n      <td>3Y</td>\n      <td>0.040072</td>\n    </tr>\n    <tr>\n      <th>8</th>\n      <td>5Y</td>\n      <td>5Y</td>\n      <td>0.041093</td>\n    </tr>\n    <tr>\n      <th>9</th>\n      <td>5Y</td>\n      <td>10Y</td>\n      <td>0.043634</td>\n    </tr>\n    <tr>\n      <th>10</th>\n      <td>10Y</td>\n      <td>1Y</td>\n      <td>0.042190</td>\n    </tr>\n    <tr>\n      <th>11</th>\n      <td>10Y</td>\n      <td>2Y</td>\n      <td>0.043116</td>\n    </tr>\n    <tr>\n      <th>12</th>\n      <td>10Y</td>\n      <td>3Y</td>\n      <td>0.044097</td>\n    </tr>\n    <tr>\n      <th>13</th>\n      <td>10Y</td>\n      <td>5Y</td>\n      <td>0.046249</td>\n    </tr>\n    <tr>\n      <th>14</th>\n      <td>10Y</td>\n      <td>10Y</td>\n      <td>0.053458</td>\n    </tr>\n  </tbody>\n</table>\n</div>"
     },
     "execution_count": 8,
     "metadata": {},
     "output_type": "execute_result"
    }
   ],
   "source": [
    "fwdSwapRates"
   ]
  },
  {
   "cell_type": "code",
   "execution_count": 9,
   "metadata": {
    "ExecuteTime": {
     "end_time": "2024-04-02T14:21:48.557756Z",
     "start_time": "2024-04-02T14:21:48.546713Z"
    }
   },
   "outputs": [
    {
     "data": {
      "text/plain": "   Expiry  Tenor  ForwardRate     Alpha       Rho        Nu   CMSRate\n0     0.5     10     0.044361  0.171109 -0.264508  0.777964  0.044663\n1     1.0     10     0.045554  0.171109 -0.264508  0.777964  0.046200\n2     1.5     10     0.046388  0.171285 -0.280654  0.746384  0.047419\n3     2.0     10     0.047239  0.171462 -0.296801  0.714804  0.048701\n4     2.5     10     0.048128  0.171638 -0.312948  0.683224  0.050067\n5     3.0     10     0.048953  0.171815 -0.329095  0.651644  0.051402\n6     3.5     10     0.049816  0.171992 -0.345242  0.620064  0.052813\n7     4.0     10     0.050738  0.172168 -0.361388  0.588484  0.054319\n8     4.5     10     0.051704  0.172345 -0.377535  0.556904  0.055903\n9     5.0     10     0.052852  0.172521 -0.393682  0.525324  0.057725",
      "text/html": "<div>\n<style scoped>\n    .dataframe tbody tr th:only-of-type {\n        vertical-align: middle;\n    }\n\n    .dataframe tbody tr th {\n        vertical-align: top;\n    }\n\n    .dataframe thead th {\n        text-align: right;\n    }\n</style>\n<table border=\"1\" class=\"dataframe\">\n  <thead>\n    <tr style=\"text-align: right;\">\n      <th></th>\n      <th>Expiry</th>\n      <th>Tenor</th>\n      <th>ForwardRate</th>\n      <th>Alpha</th>\n      <th>Rho</th>\n      <th>Nu</th>\n      <th>CMSRate</th>\n    </tr>\n  </thead>\n  <tbody>\n    <tr>\n      <th>0</th>\n      <td>0.5</td>\n      <td>10</td>\n      <td>0.044361</td>\n      <td>0.171109</td>\n      <td>-0.264508</td>\n      <td>0.777964</td>\n      <td>0.044663</td>\n    </tr>\n    <tr>\n      <th>1</th>\n      <td>1.0</td>\n      <td>10</td>\n      <td>0.045554</td>\n      <td>0.171109</td>\n      <td>-0.264508</td>\n      <td>0.777964</td>\n      <td>0.046200</td>\n    </tr>\n    <tr>\n      <th>2</th>\n      <td>1.5</td>\n      <td>10</td>\n      <td>0.046388</td>\n      <td>0.171285</td>\n      <td>-0.280654</td>\n      <td>0.746384</td>\n      <td>0.047419</td>\n    </tr>\n    <tr>\n      <th>3</th>\n      <td>2.0</td>\n      <td>10</td>\n      <td>0.047239</td>\n      <td>0.171462</td>\n      <td>-0.296801</td>\n      <td>0.714804</td>\n      <td>0.048701</td>\n    </tr>\n    <tr>\n      <th>4</th>\n      <td>2.5</td>\n      <td>10</td>\n      <td>0.048128</td>\n      <td>0.171638</td>\n      <td>-0.312948</td>\n      <td>0.683224</td>\n      <td>0.050067</td>\n    </tr>\n    <tr>\n      <th>5</th>\n      <td>3.0</td>\n      <td>10</td>\n      <td>0.048953</td>\n      <td>0.171815</td>\n      <td>-0.329095</td>\n      <td>0.651644</td>\n      <td>0.051402</td>\n    </tr>\n    <tr>\n      <th>6</th>\n      <td>3.5</td>\n      <td>10</td>\n      <td>0.049816</td>\n      <td>0.171992</td>\n      <td>-0.345242</td>\n      <td>0.620064</td>\n      <td>0.052813</td>\n    </tr>\n    <tr>\n      <th>7</th>\n      <td>4.0</td>\n      <td>10</td>\n      <td>0.050738</td>\n      <td>0.172168</td>\n      <td>-0.361388</td>\n      <td>0.588484</td>\n      <td>0.054319</td>\n    </tr>\n    <tr>\n      <th>8</th>\n      <td>4.5</td>\n      <td>10</td>\n      <td>0.051704</td>\n      <td>0.172345</td>\n      <td>-0.377535</td>\n      <td>0.556904</td>\n      <td>0.055903</td>\n    </tr>\n    <tr>\n      <th>9</th>\n      <td>5.0</td>\n      <td>10</td>\n      <td>0.052852</td>\n      <td>0.172521</td>\n      <td>-0.393682</td>\n      <td>0.525324</td>\n      <td>0.057725</td>\n    </tr>\n  </tbody>\n</table>\n</div>"
     },
     "execution_count": 9,
     "metadata": {},
     "output_type": "execute_result"
    }
   ],
   "source": [
    "CMS_10x5 = pd.read_excel('Data_3_Output.xlsx', sheet_name = 'CMS 10x5')\n",
    "CMS_10x5.drop(columns = 'Unnamed: 0', inplace=True)\n",
    "CMS_10x5"
   ]
  },
  {
   "cell_type": "markdown",
   "metadata": {},
   "source": [
    "### Question 1"
   ]
  },
  {
   "cell_type": "markdown",
   "metadata": {},
   "source": [
    "$$CMS = D(0,T) F + \\int_0^F h''(K) V^{rec}(K) dK + \\int_F^\\infty h''(K) V^{pay}(K) dK$$"
   ]
  },
  {
   "cell_type": "code",
   "execution_count": 10,
   "metadata": {
    "ExecuteTime": {
     "end_time": "2024-04-02T14:21:48.750664Z",
     "start_time": "2024-04-02T14:21:48.558461Z"
    }
   },
   "outputs": [
    {
     "name": "stdout",
     "output_type": "stream",
     "text": [
      "PV of Option: 0.34307451771723385\n"
     ]
    }
   ],
   "source": [
    "# 5 X 10 Forward Swap Rate\n",
    "F = CMS_10x5.iloc[9, 6]\n",
    "\n",
    "# D_ois(0, 5) \n",
    "D = oisDiscFactors.loc[oisDiscFactors['TN'] == 5.0]['DiscountFactor'].values[0]\n",
    "\n",
    "# parameters from SABR calibration \n",
    "alpha = CMS_10x5.iloc[9, 3]\n",
    "beta = 0.9\n",
    "rho = CMS_10x5.iloc[9, 4]\n",
    "nu = CMS_10x5.iloc[9, 5]\n",
    "\n",
    "# CMS parameters\n",
    "\n",
    "T = 5 \n",
    "tenor = 10\n",
    "paymentFreq = 2 # semi-annual\n",
    "\n",
    "\n",
    "term1 = D * g_0(F) \n",
    "\n",
    "term2 = integrate.quad(lambda x: h_2(x, paymentFreq, tenor)*Black76Lognormal(F, x, 0, SABR(F, x, T, alpha, 0.9, rho, nu),T, \"Put\")\n",
    "                       ,0, F) \n",
    "term3 = integrate.quad(lambda x: h_2(x, paymentFreq, tenor)*Black76Lognormal(F, x, 0, SABR(F, x, T, alpha, 0.9, rho, nu),T, \"Call\")\n",
    "                       ,0, F) \n",
    "\n",
    "PVoption = term1 + term2[0] + term3[0]\n",
    "\n",
    "print(f'PV of Option: {PVoption}')"
   ]
  },
  {
   "cell_type": "markdown",
   "metadata": {},
   "source": [
    "### Question 2\n"
   ]
  },
  {
   "cell_type": "markdown",
   "metadata": {},
   "source": [
    "From notes, CMS Caplet reduces to: \n",
    "$$ CMS\\;Caplet = V^{pay}(L)h'(L) + \\int_{L}^{\\infty} h''(K) V^{pay}(K) dK$$ \n",
    "$$ where \\;\\; F \\;> (0.04^{\\frac{1}{2}})^{4} = L$$"
   ]
  },
  {
   "cell_type": "code",
   "execution_count": 11,
   "metadata": {
    "ExecuteTime": {
     "end_time": "2024-04-02T14:21:48.825936Z",
     "start_time": "2024-04-02T14:21:48.751356Z"
    }
   },
   "outputs": [
    {
     "name": "stdout",
     "output_type": "stream",
     "text": [
      "PV of Caplet: 100.7514703763541\n"
     ]
    }
   ],
   "source": [
    "# 5 X 10 Forward Swap Rate\n",
    "F = CMS_10x5.iloc[9, 6]\n",
    "\n",
    "# D_ois(0, 5) \n",
    "D = oisDiscFactors.loc[oisDiscFactors['TN'] == 5.0]['DiscountFactor'].values[0]\n",
    "\n",
    "# parameters from SABR calibration \n",
    "alpha = CMS_10x5.iloc[9, 3]\n",
    "beta = 0.9\n",
    "rho = CMS_10x5.iloc[9, 4]\n",
    "nu = CMS_10x5.iloc[9, 5]\n",
    "\n",
    "\n",
    "# CMS parameters\n",
    "\n",
    "T = 5 \n",
    "tenor = 10\n",
    "paymentFreq = 2 # semi-annual\n",
    "L = (0.04**0.5) ** 4 \n",
    "\n",
    "\n",
    "### caplet has different h(K), s5 notes pg20\n",
    "\n",
    "def caplet_h1(K, L, m, N):\n",
    "    return (IRR_0(K, m, N) - (IRR_1(K, m, N)*(K-L))) / (IRR_0(K, m, N)**2)\n",
    "\n",
    "def caplet_h2(K, L, m, N):\n",
    "    term1 = ((-IRR_2(K, m, N)*(K-L)) - (2*IRR_1(K, m , N))) / (IRR_0(K,m,N)**2)\n",
    "    term2 = (2*(IRR_1(K,m,N)**2)*(K-L)) / (IRR_0(K,m,N)**3)\n",
    "    return term1 + term2 \n",
    "\n",
    "\n",
    "\n",
    "capletTerm1 = caplet_h1(F, L, paymentFreq, tenor) * Black76Lognormal(F, L, 0, SABR(F, L, T, alpha, 0.9, rho, nu),T,\"Call\")\n",
    "capletTerm2 = integrate.quad(lambda x: caplet_h2(x, L, paymentFreq, tenor)*Black76Lognormal(F, x, 0, SABR(F, x, T, alpha, 0.9, rho, nu),T,\"Call\")\n",
    "                       ,L ,10000000)\n",
    "\n",
    "PVcaplet = capletTerm1 + capletTerm2[0]\n",
    "\n",
    "print(f'PV of Caplet: {PVcaplet}')\n"
   ]
  },
  {
   "cell_type": "code",
   "execution_count": 11,
   "metadata": {
    "ExecuteTime": {
     "end_time": "2024-04-02T14:21:48.828276Z",
     "start_time": "2024-04-02T14:21:48.826724Z"
    }
   },
   "outputs": [],
   "source": []
  }
 ],
 "metadata": {
  "kernelspec": {
   "display_name": "Python 3 (ipykernel)",
   "language": "python",
   "name": "python3"
  },
  "language_info": {
   "codemirror_mode": {
    "name": "ipython",
    "version": 3
   },
   "file_extension": ".py",
   "mimetype": "text/x-python",
   "name": "python",
   "nbconvert_exporter": "python",
   "pygments_lexer": "ipython3",
   "version": "3.11.3"
  }
 },
 "nbformat": 4,
 "nbformat_minor": 2
}
